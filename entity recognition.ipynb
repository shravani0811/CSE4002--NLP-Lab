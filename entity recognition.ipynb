{
 "cells": [
  {
   "cell_type": "code",
   "execution_count": 26,
   "metadata": {},
   "outputs": [],
   "source": [
    "import spacy\n",
    "from spacy.tokenizer import Tokenizer"
   ]
  },
  {
   "cell_type": "code",
   "execution_count": 9,
   "metadata": {},
   "outputs": [],
   "source": [
    "sp = spacy.load('en')"
   ]
  },
  {
   "cell_type": "code",
   "execution_count": 10,
   "metadata": {},
   "outputs": [
    {
     "data": {
      "text/plain": [
       "489"
      ]
     },
     "execution_count": 10,
     "metadata": {},
     "output_type": "execute_result"
    }
   ],
   "source": [
    "sp.vocab.length"
   ]
  },
  {
   "cell_type": "code",
   "execution_count": 11,
   "metadata": {},
   "outputs": [],
   "source": [
    "ex_ner1 = \"War broke out in April 1861 when secessionist forces attacked Fort Sumter in South Carolina just over a month after Abraham Lincoln had been inaugurated as the President of the United States\""
   ]
  },
  {
   "cell_type": "code",
   "execution_count": 12,
   "metadata": {},
   "outputs": [],
   "source": [
    "doc = sp(ex_ner1)"
   ]
  },
  {
   "cell_type": "code",
   "execution_count": 13,
   "metadata": {},
   "outputs": [
    {
     "name": "stdout",
     "output_type": "stream",
     "text": [
      "April 1861 DATE\n",
      "Fort Sumter FAC\n",
      "South Carolina GPE\n",
      "just over a month DATE\n",
      "Abraham Lincoln PERSON\n",
      "the United States GPE\n"
     ]
    }
   ],
   "source": [
    "for ent in doc.ents:\n",
    "    print(ent.text, ent.label_)"
   ]
  },
  {
   "cell_type": "code",
   "execution_count": 15,
   "metadata": {
    "scrolled": true
   },
   "outputs": [
    {
     "name": "stdout",
     "output_type": "stream",
     "text": [
      "Nile LOC\n",
      "Mount Everest LOC\n",
      "every year DATE\n",
      "thousands CARDINAL\n"
     ]
    }
   ],
   "source": [
    "ex_ner2 = \"The Nile is the longest river in the world. Mount Everest, the tallest mountain in the world, is scaled every year by thousands of mountaineers.\"\n",
    "doc1 = sp(ex_ner2)\n",
    "for ent in doc1.ents:\n",
    "    print(ent.text, ent.label_)"
   ]
  },
  {
   "cell_type": "code",
   "execution_count": 16,
   "metadata": {},
   "outputs": [
    {
     "name": "stdout",
     "output_type": "stream",
     "text": [
      "['War', 'broke', 'out', 'in', 'April', '1861', 'when', 'secessionist', 'forces', 'attacked', 'Fort', 'Sumter', 'in', 'South', 'Carolina', 'just', 'over', 'a', 'month', 'after', 'Abraham', 'Lincoln', 'had', 'been', 'inaugurated', 'as', 'the', 'President', 'of', 'the', 'United', 'States']\n"
     ]
    }
   ],
   "source": [
    "tokens = [token.text for token in doc]\n",
    "print(tokens)"
   ]
  },
  {
   "cell_type": "code",
   "execution_count": 19,
   "metadata": {},
   "outputs": [],
   "source": [
    "sentence = [(\"The\", \"DT\"), (\"little\", \"JJ\"), (\"yellow\",\"JJ\"),(\"dog\", \"NN\"),(\"barked\", \"VBD\"),(\"at\",\"IN\"), (\"the\",\"DT\"),(\"cat\",\"NN\")]\n",
    "grammar = \"NP: {<DT>?<JJ>*<NN>}\""
   ]
  },
  {
   "cell_type": "code",
   "execution_count": 18,
   "metadata": {},
   "outputs": [],
   "source": [
    "import nltk"
   ]
  },
  {
   "cell_type": "code",
   "execution_count": 21,
   "metadata": {},
   "outputs": [],
   "source": [
    "cp = nltk.RegexpParser(grammar)\n",
    "result=cp.parse(sentence)"
   ]
  },
  {
   "cell_type": "code",
   "execution_count": 22,
   "metadata": {},
   "outputs": [
    {
     "name": "stdout",
     "output_type": "stream",
     "text": [
      "(S\n",
      "  (NP The/DT little/JJ yellow/JJ dog/NN)\n",
      "  barked/VBD\n",
      "  at/IN\n",
      "  (NP the/DT cat/NN))\n"
     ]
    }
   ],
   "source": [
    "print(result)"
   ]
  },
  {
   "cell_type": "code",
   "execution_count": 23,
   "metadata": {},
   "outputs": [],
   "source": [
    "result.draw()"
   ]
  },
  {
   "cell_type": "code",
   "execution_count": 24,
   "metadata": {},
   "outputs": [],
   "source": [
    "test = \"Four score and seven years ago our fathers brought forth on this continent, a new nation, conceived in Liberty, and dedicated to the proposition that all men are created equal. Now we are engaged in a great civil war, testing whether that nation, or any nation so conceived and so dedicated, can long endure. We are met on a great battle-field of that war. We have come to dedicate a portion of that field, as a final resting place for those who here gave their lives that that nation might live. It is altogether fitting and proper that we should do this. But, in a larger sense, we can not dedicate—we can not consecrate—we can not hallow—this ground. The brave men, living and dead, who struggled here, have consecrated it, far above our poor power to add or detract. The world will little note, nor long remember what we say here, but it can never forget what they did here. It is for us the living, rather, to be dedicated here to the unfinished work which they who fought here have thus far so nobly advanced. It is rather for us to be here dedicated to the great task remaining before us—that from these honored dead we take increased devotion to that cause for which they gave the last full measure of devotion—that we here highly resolve that these dead shall not have died in vain—that this nation, under God, shall have a new birth of freedom—and that government of the people, by the people, for the people, shall not perish from the earth.\""
   ]
  },
  {
   "cell_type": "code",
   "execution_count": 28,
   "metadata": {},
   "outputs": [
    {
     "name": "stdout",
     "output_type": "stream",
     "text": [
      "Four score and seven years ago our fathers brought forth on this continent, a new nation, conceived in Liberty, and dedicated to the proposition that all men are created equal.\n",
      "Now we are engaged in a great civil war, testing whether that nation, or any nation so conceived and so dedicated, can long endure.\n",
      "We are met on a great battle-field of that war.\n",
      "We have come to dedicate a portion of that field, as a final resting place for those who here gave their lives that that nation might live.\n",
      "It is altogether fitting and proper that we should do this.\n",
      "But, in a larger sense, we can not dedicate—we can not consecrate—we can not hallow—this ground.\n",
      "The brave men, living and dead, who struggled here, have consecrated it, far above our poor power to add or detract.\n",
      "The world will little note, nor long remember what we say here, but it can never forget what they did here.\n",
      "It is for us the living, rather, to be dedicated here to the unfinished work which they who fought here have thus far so nobly advanced.\n",
      "It is rather for us to be here dedicated to the great task remaining before us—that from these honored dead we take increased devotion to that cause for which they gave the last full measure of devotion—that we here highly resolve that these dead shall not have died in vain—that this nation, under God, shall have a new birth of freedom—and that government of the people, by the people, for the people, shall not perish from the earth.\n"
     ]
    }
   ],
   "source": [
    "doct = sp(test)\n",
    "\n",
    "from spacy.lang.en import English\n",
    "\n",
    "nlp = English()  \n",
    "sentencizer = nlp.create_pipe(\"sentencizer\")\n",
    "nlp.add_pipe(sentencizer)\n",
    "for sent in doct.sents:\n",
    "    print(sent.text)"
   ]
  },
  {
   "cell_type": "code",
   "execution_count": 30,
   "metadata": {},
   "outputs": [
    {
     "name": "stdout",
     "output_type": "stream",
     "text": [
      "War\n",
      "broke\n",
      "out\n",
      "in\n",
      "April\n",
      "1861\n",
      "when\n",
      "secessionist\n",
      "forces\n",
      "attacked\n",
      "Fort\n",
      "Sumter\n",
      "in\n",
      "South\n",
      "Carolina\n",
      "just\n",
      "over\n",
      "a\n",
      "month\n",
      "after\n",
      "Abraham\n",
      "Lincoln\n",
      "had\n",
      "been\n",
      "inaugurated\n",
      "as\n",
      "the\n",
      "President\n",
      "of\n",
      "the\n",
      "United\n",
      "States\n"
     ]
    }
   ],
   "source": [
    "for sent in doc.sents:\n",
    "    for token in sent:\n",
    "        print (token.text)"
   ]
  }
 ],
 "metadata": {
  "kernelspec": {
   "display_name": "Python 3",
   "language": "python",
   "name": "python3"
  },
  "language_info": {
   "codemirror_mode": {
    "name": "ipython",
    "version": 3
   },
   "file_extension": ".py",
   "mimetype": "text/x-python",
   "name": "python",
   "nbconvert_exporter": "python",
   "pygments_lexer": "ipython3",
   "version": "3.7.6"
  }
 },
 "nbformat": 4,
 "nbformat_minor": 4
}
